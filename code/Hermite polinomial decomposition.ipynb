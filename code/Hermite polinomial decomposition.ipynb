{
 "cells": [
  {
   "cell_type": "code",
   "execution_count": 71,
   "metadata": {},
   "outputs": [
    {
     "data": {
      "text/plain": [
       "'check sympy version: 1.1.1'"
      ]
     },
     "execution_count": 71,
     "metadata": {},
     "output_type": "execute_result"
    }
   ],
   "source": [
    "import sympy\n",
    "from sympy import poly\n",
    "from sympy import pdiv\n",
    "from sympy.abc import x\n",
    "sympy.init_printing()\n",
    "\"check sympy version: {}\".format(sympy.__version__)"
   ]
  },
  {
   "cell_type": "code",
   "execution_count": 169,
   "metadata": {},
   "outputs": [
    {
     "data": {
      "image/png": "[encoded data removed]",
      "text/latex": [
       "$$\\frac{x^{10} + x^{8} - x^{6} + 1}{x^{8} - x^{7} + 2 x^{6} - 2 x^{5} + x^{4} - x^{3}}$$"
      ],
      "text/plain": [
       "        10    8    6           \n",
       "       x   + x  - x  + 1       \n",
       "───────────────────────────────\n",
       " 8    7      6      5    4    3\n",
       "x  - x  + 2⋅x  - 2⋅x  + x  - x "
      ]
     },
     "execution_count": 169,
     "metadata": {},
     "output_type": "execute_result"
    }
   ],
   "source": [
    "num = x**10 + x**8 - x**6 + 1\n",
    "den = x**8 - x**7 + 2*x**6 - 2*x**5 + x**4 - x**3\n",
    "num / den  # this is our rational function"
   ]
  },
  {
   "cell_type": "code",
   "execution_count": 170,
   "metadata": {},
   "outputs": [
    {
     "data": {
      "image/png": "[encoded data removed]",
      "text/latex": [
       "$$x^{2} + x + \\frac{x^{4} + 1}{x^{8} - x^{7} + 2 x^{6} - 2 x^{5} + x^{4} - x^{3}}$$"
      ],
      "text/plain": [
       "                       4                \n",
       " 2                    x  + 1            \n",
       "x  + x + ───────────────────────────────\n",
       "          8    7      6      5    4    3\n",
       "         x  - x  + 2⋅x  - 2⋅x  + x  - x "
      ]
     },
     "execution_count": 170,
     "metadata": {},
     "output_type": "execute_result"
    }
   ],
   "source": [
    "quotient, rest = pdiv(num,den)\n",
    "f = quotient + rest / den\n",
    "f # perform polinomial division"
   ]
  },
  {
   "cell_type": "code",
   "execution_count": 171,
   "metadata": {},
   "outputs": [
    {
     "data": {
      "image/png": "[encoded data removed]",
      "text/latex": [
       "$$x^{5} - x^{4} + 2 x^{3} - 2 x^{2} + x - 1$$"
      ],
      "text/plain": [
       " 5    4      3      2        \n",
       "x  - x  + 2⋅x  - 2⋅x  + x - 1"
      ]
     },
     "execution_count": 171,
     "metadata": {},
     "output_type": "execute_result"
    }
   ],
   "source": [
    "simplify(den/x**3)  # factorize"
   ]
  },
  {
   "cell_type": "code",
   "execution_count": 172,
   "metadata": {},
   "outputs": [
    {
     "data": {
      "image/png": "[encoded data removed]",
      "text/latex": [
       "$$0$$"
      ],
      "text/plain": [
       "0"
      ]
     },
     "execution_count": 172,
     "metadata": {},
     "output_type": "execute_result"
    }
   ],
   "source": [
    "_.subs(x,1)  # check if x=1 is a zero"
   ]
  },
  {
   "cell_type": "code",
   "execution_count": 173,
   "metadata": {},
   "outputs": [
    {
     "data": {
      "image/png": "[encoded data removed]",
      "text/latex": [
       "$$x^{4} + 2 x^{2} + 1$$"
      ],
      "text/plain": [
       " 4      2    \n",
       "x  + 2⋅x  + 1"
      ]
     },
     "execution_count": 173,
     "metadata": {},
     "output_type": "execute_result"
    }
   ],
   "source": [
    "simplify(den/(x**3 * (x-1)))  # factorize: we get a perfect square"
   ]
  },
  {
   "cell_type": "code",
   "execution_count": 174,
   "metadata": {},
   "outputs": [
    {
     "data": {
      "image/png": "[encoded data removed]",
      "text/latex": [
       "$$0$$"
      ],
      "text/plain": [
       "0"
      ]
     },
     "execution_count": 174,
     "metadata": {},
     "output_type": "execute_result"
    }
   ],
   "source": [
    "q = (x**2+1)**2 * (x-1) * x**3  \n",
    "simplify(q - den)  # check if the factorization is correct"
   ]
  },
  {
   "cell_type": "code",
   "execution_count": 175,
   "metadata": {},
   "outputs": [
    {
     "data": {
      "image/png": "[encoded data removed]",
      "text/latex": [
       "$$x^{2} + x + \\frac{x^{4} + 1}{x^{3} \\left(x - 1\\right) \\left(x^{2} + 1\\right)^{2}}$$"
      ],
      "text/plain": [
       "                 4           \n",
       " 2              x  + 1       \n",
       "x  + x + ────────────────────\n",
       "                            2\n",
       "          3         ⎛ 2    ⎞ \n",
       "         x ⋅(x - 1)⋅⎝x  + 1⎠ "
      ]
     },
     "execution_count": 175,
     "metadata": {},
     "output_type": "execute_result"
    }
   ],
   "source": [
    "quotient + rest / q  # our rational function rewritten"
   ]
  },
  {
   "cell_type": "code",
   "execution_count": 176,
   "metadata": {},
   "outputs": [
    {
     "data": {
      "image/png": "[encoded data removed]",
      "text/latex": [
       "$$\\frac{x^{3}}{3} + \\frac{x^{2}}{2}$$"
      ],
      "text/plain": [
       " 3    2\n",
       "x    x \n",
       "── + ──\n",
       "3    2 "
      ]
     },
     "execution_count": 176,
     "metadata": {},
     "output_type": "execute_result"
    }
   ],
   "source": [
    "integrate(quotient)  # this is the integral of the polinomial part"
   ]
  },
  {
   "cell_type": "code",
   "execution_count": 178,
   "metadata": {},
   "outputs": [
    {
     "data": {
      "image/png": "[encoded data removed]",
      "text/latex": [
       "$$\\left ( A, \\quad B, \\quad C, \\quad D, \\quad E, \\quad F, \\quad G, \\quad H\\right )$$"
      ],
      "text/plain": [
       "(A, B, C, D, E, F, G, H)"
      ]
     },
     "execution_count": 178,
     "metadata": {},
     "output_type": "execute_result"
    }
   ],
   "source": [
    "params = symbols('A B C D E F G H')\n",
    "A, B, C, D, E, F, G, H = params\n",
    "params  # declare parameters"
   ]
  },
  {
   "cell_type": "code",
   "execution_count": 148,
   "metadata": {},
   "outputs": [
    {
     "data": {
      "image/png": "[encoded data removed]",
      "text/latex": [
       "$$\\frac{A}{x} + \\frac{B}{x - 1} + \\frac{C x + D}{x^{2} + 1} - \\frac{2}{x \\left(x^{2} + 1\\right)^{2}} \\left(E x^{3} + F x^{2} + G x + H\\right) + \\frac{1}{x^{2} \\left(x^{2} + 1\\right)} \\left(3 E x^{2} + 2 F x + G\\right) - \\frac{2}{x^{3} \\left(x^{2} + 1\\right)} \\left(E x^{3} + F x^{2} + G x + H\\right)$$"
      ],
      "text/plain": [
       "                        ⎛   3      2          ⎞        2                 ⎛   3\n",
       "A     B     C⋅x + D   2⋅⎝E⋅x  + F⋅x  + G⋅x + H⎠   3⋅E⋅x  + 2⋅F⋅x + G   2⋅⎝E⋅x \n",
       "─ + ───── + ─────── - ───────────────────────── + ────────────────── - ───────\n",
       "x   x - 1     2                        2              2 ⎛ 2    ⎞              \n",
       "             x  + 1            ⎛ 2    ⎞              x ⋅⎝x  + 1⎠              \n",
       "                             x⋅⎝x  + 1⎠                                       \n",
       "\n",
       "      2          ⎞\n",
       " + F⋅x  + G⋅x + H⎠\n",
       "──────────────────\n",
       " 3 ⎛ 2    ⎞       \n",
       "x ⋅⎝x  + 1⎠       \n",
       "                  "
      ]
     },
     "execution_count": 148,
     "metadata": {},
     "output_type": "execute_result"
    }
   ],
   "source": [
    "g1 = A / x + B / (x-1) + (C*x + D) / (x**2 +1)  \n",
    "g2 = (E*x**3 + F*x**2 + G*x + H) / (x**2 * (x**2+1))\n",
    "g =  g1 + diff(g2 , x)\n",
    "g"
   ]
  },
  {
   "cell_type": "code",
   "execution_count": 149,
   "metadata": {},
   "outputs": [
    {
     "data": {
      "image/png": "[encoded data removed]",
      "text/latex": [
       "$$2 H + x^{7} \\left(A + B + C\\right) + x^{6} \\left(- A - C + D - E\\right) + x^{5} \\left(2 A + 2 B + C - D + E - 2 F\\right) + x^{4} \\left(- 2 A - C + D + E + 2 F - 3 G\\right) + x^{3} \\left(A + B - D - E + 3 G - 4 H\\right) + x^{2} \\left(- A - G + 4 H\\right) + x \\left(G - 2 H\\right)$$"
      ],
      "text/plain": [
       "       7                6                     5                               \n",
       "2⋅H + x ⋅(A + B + C) + x ⋅(-A - C + D - E) + x ⋅(2⋅A + 2⋅B + C - D + E - 2⋅F) \n",
       "\n",
       "   4                                   3                                2     \n",
       "+ x ⋅(-2⋅A - C + D + E + 2⋅F - 3⋅G) + x ⋅(A + B - D - E + 3⋅G - 4⋅H) + x ⋅(-A \n",
       "\n",
       "                        \n",
       "- G + 4⋅H) + x⋅(G - 2⋅H)"
      ]
     },
     "execution_count": 149,
     "metadata": {},
     "output_type": "execute_result"
    }
   ],
   "source": [
    "p = cancel(g*q).collect(x)  # multiply by the common denumerator and simplify\n",
    "p"
   ]
  },
  {
   "cell_type": "code",
   "execution_count": 150,
   "metadata": {},
   "outputs": [
    {
     "data": {
      "image/png": "[encoded data removed]",
      "text/latex": [
       "$$\\left [ A + B + C, \\quad - A - C + D - E, \\quad 2 A + 2 B + C - D + E - 2 F, \\quad - 2 A - C + D + E + 2 F - 3 G - 1, \\quad A + B - D - E + 3 G - 4 H, \\quad - A - G + 4 H, \\quad G - 2 H, \\quad 2 H - 1\\right ]$$"
      ],
      "text/plain": [
       "[A + B + C, -A - C + D - E, 2⋅A + 2⋅B + C - D + E - 2⋅F, -2⋅A - C + D + E + 2⋅\n",
       "F - 3⋅G - 1, A + B - D - E + 3⋅G - 4⋅H, -A - G + 4⋅H, G - 2⋅H, 2⋅H - 1]"
      ]
     },
     "execution_count": 150,
     "metadata": {},
     "output_type": "execute_result"
    }
   ],
   "source": [
    "equations = (Poly(p,x) - Poly(rest)).coeffs()\n",
    "equations  # all these should be zero"
   ]
  },
  {
   "cell_type": "code",
   "execution_count": 151,
   "metadata": {},
   "outputs": [
    {
     "data": {
      "image/png": "[encoded data removed]",
      "text/latex": [
       "$$\\left ( 1, \\quad \\frac{1}{2}, \\quad - \\frac{3}{2}, \\quad 1, \\quad \\frac{3}{2}, \\quad 1, \\quad 1, \\quad \\frac{1}{2}\\right )$$"
      ],
      "text/plain": [
       "(1, 1/2, -3/2, 1, 3/2, 1, 1, 1/2)"
      ]
     },
     "execution_count": 151,
     "metadata": {},
     "output_type": "execute_result"
    }
   ],
   "source": [
    "solutions = linsolve(equations,params).args[0]\n",
    "solutions  # solve equations to find parameters"
   ]
  },
  {
   "cell_type": "code",
   "execution_count": 157,
   "metadata": {},
   "outputs": [
    {
     "data": {
      "image/png": "[encoded data removed]",
      "text/latex": [
       "$$x^{4} + 1$$"
      ],
      "text/plain": [
       " 4    \n",
       "x  + 1"
      ]
     },
     "execution_count": 157,
     "metadata": {},
     "output_type": "execute_result"
    }
   ],
   "source": [
    "sbst = list(zip(params,solutions)) \n",
    "p.subs(sbst)  # check that we obtain the desired polinomial"
   ]
  },
  {
   "cell_type": "code",
   "execution_count": 159,
   "metadata": {},
   "outputs": [
    {
     "data": {
      "image/png": "[encoded data removed]",
      "text/latex": [
       "$$\\frac{\\frac{3 x^{3}}{2} + x^{2} + x + \\frac{1}{2}}{x^{2} \\left(x^{2} + 1\\right)}$$"
      ],
      "text/plain": [
       "   3             \n",
       "3⋅x     2       1\n",
       "──── + x  + x + ─\n",
       " 2              2\n",
       "─────────────────\n",
       "    2 ⎛ 2    ⎞   \n",
       "   x ⋅⎝x  + 1⎠   "
      ]
     },
     "execution_count": 159,
     "metadata": {},
     "output_type": "execute_result"
    }
   ],
   "source": [
    "g2.subs(sbst)  # this is already integrated"
   ]
  },
  {
   "cell_type": "code",
   "execution_count": 158,
   "metadata": {},
   "outputs": [
    {
     "data": {
      "image/png": "[encoded data removed]",
      "text/latex": [
       "$$\\frac{- \\frac{3 x}{2} + 1}{x^{2} + 1} + \\frac{1}{2 \\left(x - 1\\right)} + \\frac{1}{x}$$"
      ],
      "text/plain": [
       "  3⋅x                    \n",
       "- ─── + 1                \n",
       "   2            1       1\n",
       "───────── + ───────── + ─\n",
       "   2        2⋅(x - 1)   x\n",
       "  x  + 1                 "
      ]
     },
     "execution_count": 158,
     "metadata": {},
     "output_type": "execute_result"
    }
   ],
   "source": [
    "g2 = g1.subs(sbst)  # this must be integrated"
   ]
  },
  {
   "cell_type": "code",
   "execution_count": 166,
   "metadata": {},
   "outputs": [
    {
     "data": {
      "image/png": "[encoded data removed]",
      "text/latex": [
       "$$\\log{\\left (x \\right )} + \\frac{1}{2} \\log{\\left (x - 1 \\right )} - \\frac{3}{4} \\log{\\left (x^{2} + 1 \\right )} + \\operatorname{atan}{\\left (x \\right )} + \\frac{\\frac{3 x^{3}}{2} + x^{2} + x + \\frac{1}{2}}{x^{2} \\left(x^{2} + 1\\right)}$$"
      ],
      "text/plain": [
       "                                                   3             \n",
       "                                                3⋅x     2       1\n",
       "                           ⎛ 2    ⎞             ──── + x  + x + ─\n",
       "         log(x - 1)   3⋅log⎝x  + 1⎠              2              2\n",
       "log(x) + ────────── - ───────────── + atan(x) + ─────────────────\n",
       "             2              4                       2 ⎛ 2    ⎞   \n",
       "                                                   x ⋅⎝x  + 1⎠   "
      ]
     },
     "execution_count": 166,
     "metadata": {},
     "output_type": "execute_result"
    }
   ],
   "source": [
    "our_integral = integrate(g1.subs(sbst)) + g2.subs(sbst) "
   ]
  },
  {
   "cell_type": "code",
   "execution_count": 168,
   "metadata": {},
   "outputs": [
    {
     "data": {
      "image/png": "[encoded data removed]",
      "text/latex": [
       "$$\\frac{x^{2}}{6} \\left(2 x + 3\\right)$$"
      ],
      "text/plain": [
       " 2          \n",
       "x ⋅(2⋅x + 3)\n",
       "────────────\n",
       "     6      "
      ]
     },
     "execution_count": 168,
     "metadata": {},
     "output_type": "execute_result"
    }
   ],
   "source": [
    "simplify(integrate(f) - integral)  # check using sympy integration"
   ]
  },
  {
   "cell_type": "code",
   "execution_count": 180,
   "metadata": {},
   "outputs": [
    {
     "data": {
      "image/png": "[encoded data removed]",
      "text/latex": [
       "$$\\frac{6 x^{7} - 5 x^{6} + 13 x^{5} - 5 x^{4} + x^{3} + 2 x^{2} - 2 x + 2}{x^{8} - x^{7} + 2 x^{6} - 2 x^{5} + x^{4} - x^{3}}$$"
      ],
      "text/plain": [
       "   7      6       5      4    3      2          \n",
       "6⋅x  - 5⋅x  + 13⋅x  - 5⋅x  + x  + 2⋅x  - 2⋅x + 2\n",
       "────────────────────────────────────────────────\n",
       "         8    7      6      5    4    3         \n",
       "        x  - x  + 2⋅x  - 2⋅x  + x  - x          "
      ]
     },
     "execution_count": 180,
     "metadata": {},
     "output_type": "execute_result"
    }
   ],
   "source": [
    "cancel(2/x + 3/(x-1) + (x-1)/(x**2+1) + diff((x**3+1)/(x**2 * (x**2+1)),x))"
   ]
  },
  {
   "cell_type": "code",
   "execution_count": null,
   "metadata": {},
   "outputs": [],
   "source": []
  }
 ],
 "metadata": {
  "kernelspec": {
   "display_name": "Python 3",
   "language": "python",
   "name": "python3"
  },
  "language_info": {
   "codemirror_mode": {
    "name": "ipython",
    "version": 3
   },
   "file_extension": ".py",
   "mimetype": "text/x-python",
   "name": "python",
   "nbconvert_exporter": "python",
   "pygments_lexer": "ipython3",
   "version": "3.6.8"
  }
 },
 "nbformat": 4,
 "nbformat_minor": 2
}
